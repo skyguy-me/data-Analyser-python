{
 "cells": [
  {
   "cell_type": "code",
   "execution_count": 1,
   "metadata": {},
   "outputs": [],
   "source": [
    "import pandas as pd\n",
    "import matplotlib.pyplot as plt\n",
    "import seaborn as sns"
   ]
  },
  {
   "cell_type": "code",
   "execution_count": 6,
   "metadata": {},
   "outputs": [
    {
     "data": {
      "text/html": [
       "<div>\n",
       "<style scoped>\n",
       "    .dataframe tbody tr th:only-of-type {\n",
       "        vertical-align: middle;\n",
       "    }\n",
       "\n",
       "    .dataframe tbody tr th {\n",
       "        vertical-align: top;\n",
       "    }\n",
       "\n",
       "    .dataframe thead th {\n",
       "        text-align: right;\n",
       "    }\n",
       "</style>\n",
       "<table border=\"1\" class=\"dataframe\">\n",
       "  <thead>\n",
       "    <tr style=\"text-align: right;\">\n",
       "      <th></th>\n",
       "      <th>key</th>\n",
       "      <th>Voltage 1</th>\n",
       "      <th>Voltage 2</th>\n",
       "      <th>Voltage 3</th>\n",
       "      <th>Voltage 4</th>\n",
       "      <th>Voltage 5</th>\n",
       "      <th>Voltage 6</th>\n",
       "      <th>Voltage 7</th>\n",
       "      <th>Voltage 8</th>\n",
       "      <th>Voltage 9</th>\n",
       "      <th>...</th>\n",
       "      <th>Voltage 11</th>\n",
       "      <th>Voltage 12</th>\n",
       "      <th>Voltage 13</th>\n",
       "      <th>Voltage 14</th>\n",
       "      <th>Voltage 15</th>\n",
       "      <th>Voltage 16</th>\n",
       "      <th>Voltage 17</th>\n",
       "      <th>Voltage 18</th>\n",
       "      <th>Voltage 19</th>\n",
       "      <th>Voltage 20</th>\n",
       "    </tr>\n",
       "  </thead>\n",
       "  <tbody>\n",
       "    <tr>\n",
       "      <th>count</th>\n",
       "      <td>49081.000000</td>\n",
       "      <td>4.908100e+04</td>\n",
       "      <td>49081.000000</td>\n",
       "      <td>49081.000000</td>\n",
       "      <td>49081.000000</td>\n",
       "      <td>49081.000000</td>\n",
       "      <td>49081.000000</td>\n",
       "      <td>49081.000000</td>\n",
       "      <td>49081.000000</td>\n",
       "      <td>49081.000000</td>\n",
       "      <td>...</td>\n",
       "      <td>49081.000000</td>\n",
       "      <td>49081.000000</td>\n",
       "      <td>49081.000000</td>\n",
       "      <td>49081.000000</td>\n",
       "      <td>49081.000000</td>\n",
       "      <td>49081.000000</td>\n",
       "      <td>49081.000000</td>\n",
       "      <td>49081.000000</td>\n",
       "      <td>49081.000000</td>\n",
       "      <td>49081.000000</td>\n",
       "    </tr>\n",
       "    <tr>\n",
       "      <th>mean</th>\n",
       "      <td>24541.000000</td>\n",
       "      <td>4.658699e-01</td>\n",
       "      <td>6.450125</td>\n",
       "      <td>3.552619</td>\n",
       "      <td>8.887622</td>\n",
       "      <td>9.673771</td>\n",
       "      <td>5.541870</td>\n",
       "      <td>5.717991</td>\n",
       "      <td>7.910384</td>\n",
       "      <td>5.536982</td>\n",
       "      <td>...</td>\n",
       "      <td>5.667929</td>\n",
       "      <td>9.441776</td>\n",
       "      <td>6.702238</td>\n",
       "      <td>7.109273</td>\n",
       "      <td>5.569945</td>\n",
       "      <td>2.791341</td>\n",
       "      <td>5.553919</td>\n",
       "      <td>8.112444</td>\n",
       "      <td>5.187933</td>\n",
       "      <td>4.110586</td>\n",
       "    </tr>\n",
       "    <tr>\n",
       "      <th>std</th>\n",
       "      <td>14168.608618</td>\n",
       "      <td>5.705578e-07</td>\n",
       "      <td>0.000003</td>\n",
       "      <td>0.000003</td>\n",
       "      <td>0.000004</td>\n",
       "      <td>0.000004</td>\n",
       "      <td>0.000004</td>\n",
       "      <td>0.000003</td>\n",
       "      <td>0.000004</td>\n",
       "      <td>0.000003</td>\n",
       "      <td>...</td>\n",
       "      <td>0.000003</td>\n",
       "      <td>0.000004</td>\n",
       "      <td>0.000003</td>\n",
       "      <td>0.000003</td>\n",
       "      <td>0.000003</td>\n",
       "      <td>0.000003</td>\n",
       "      <td>0.000003</td>\n",
       "      <td>0.000004</td>\n",
       "      <td>0.000003</td>\n",
       "      <td>0.000003</td>\n",
       "    </tr>\n",
       "    <tr>\n",
       "      <th>min</th>\n",
       "      <td>1.000000</td>\n",
       "      <td>4.658670e-01</td>\n",
       "      <td>6.450113</td>\n",
       "      <td>3.552608</td>\n",
       "      <td>8.887607</td>\n",
       "      <td>9.673755</td>\n",
       "      <td>5.541856</td>\n",
       "      <td>5.717977</td>\n",
       "      <td>7.910370</td>\n",
       "      <td>5.536968</td>\n",
       "      <td>...</td>\n",
       "      <td>5.667917</td>\n",
       "      <td>9.441762</td>\n",
       "      <td>6.702225</td>\n",
       "      <td>7.109261</td>\n",
       "      <td>5.569932</td>\n",
       "      <td>2.791332</td>\n",
       "      <td>5.553906</td>\n",
       "      <td>8.112431</td>\n",
       "      <td>5.187919</td>\n",
       "      <td>4.110573</td>\n",
       "    </tr>\n",
       "    <tr>\n",
       "      <th>25%</th>\n",
       "      <td>12271.000000</td>\n",
       "      <td>4.658700e-01</td>\n",
       "      <td>6.450122</td>\n",
       "      <td>3.552617</td>\n",
       "      <td>8.887619</td>\n",
       "      <td>9.673768</td>\n",
       "      <td>5.541868</td>\n",
       "      <td>5.717989</td>\n",
       "      <td>7.910382</td>\n",
       "      <td>5.536980</td>\n",
       "      <td>...</td>\n",
       "      <td>5.667927</td>\n",
       "      <td>9.441773</td>\n",
       "      <td>6.702236</td>\n",
       "      <td>7.109271</td>\n",
       "      <td>5.569943</td>\n",
       "      <td>2.791339</td>\n",
       "      <td>5.553917</td>\n",
       "      <td>8.112441</td>\n",
       "      <td>5.187931</td>\n",
       "      <td>4.110584</td>\n",
       "    </tr>\n",
       "    <tr>\n",
       "      <th>50%</th>\n",
       "      <td>24541.000000</td>\n",
       "      <td>4.658700e-01</td>\n",
       "      <td>6.450125</td>\n",
       "      <td>3.552619</td>\n",
       "      <td>8.887622</td>\n",
       "      <td>9.673771</td>\n",
       "      <td>5.541870</td>\n",
       "      <td>5.717991</td>\n",
       "      <td>7.910384</td>\n",
       "      <td>5.536982</td>\n",
       "      <td>...</td>\n",
       "      <td>5.667929</td>\n",
       "      <td>9.441776</td>\n",
       "      <td>6.702238</td>\n",
       "      <td>7.109273</td>\n",
       "      <td>5.569945</td>\n",
       "      <td>2.791341</td>\n",
       "      <td>5.553919</td>\n",
       "      <td>8.112443</td>\n",
       "      <td>5.187933</td>\n",
       "      <td>4.110586</td>\n",
       "    </tr>\n",
       "    <tr>\n",
       "      <th>75%</th>\n",
       "      <td>36811.000000</td>\n",
       "      <td>4.658700e-01</td>\n",
       "      <td>6.450127</td>\n",
       "      <td>3.552621</td>\n",
       "      <td>8.887624</td>\n",
       "      <td>9.673774</td>\n",
       "      <td>5.541872</td>\n",
       "      <td>5.717993</td>\n",
       "      <td>7.910387</td>\n",
       "      <td>5.536985</td>\n",
       "      <td>...</td>\n",
       "      <td>5.667931</td>\n",
       "      <td>9.441779</td>\n",
       "      <td>6.702240</td>\n",
       "      <td>7.109276</td>\n",
       "      <td>5.569947</td>\n",
       "      <td>2.791343</td>\n",
       "      <td>5.553921</td>\n",
       "      <td>8.112446</td>\n",
       "      <td>5.187935</td>\n",
       "      <td>4.110588</td>\n",
       "    </tr>\n",
       "    <tr>\n",
       "      <th>max</th>\n",
       "      <td>49081.000000</td>\n",
       "      <td>4.658730e-01</td>\n",
       "      <td>6.450140</td>\n",
       "      <td>3.552633</td>\n",
       "      <td>8.887638</td>\n",
       "      <td>9.673786</td>\n",
       "      <td>5.541885</td>\n",
       "      <td>5.718005</td>\n",
       "      <td>7.910399</td>\n",
       "      <td>5.536997</td>\n",
       "      <td>...</td>\n",
       "      <td>5.667943</td>\n",
       "      <td>9.441793</td>\n",
       "      <td>6.702251</td>\n",
       "      <td>7.109288</td>\n",
       "      <td>5.569961</td>\n",
       "      <td>2.791353</td>\n",
       "      <td>5.553932</td>\n",
       "      <td>8.112458</td>\n",
       "      <td>5.187947</td>\n",
       "      <td>4.110600</td>\n",
       "    </tr>\n",
       "  </tbody>\n",
       "</table>\n",
       "<p>8 rows × 21 columns</p>\n",
       "</div>"
      ],
      "text/plain": [
       "                key     Voltage 1     Voltage 2     Voltage 3     Voltage 4  \\\n",
       "count  49081.000000  4.908100e+04  49081.000000  49081.000000  49081.000000   \n",
       "mean   24541.000000  4.658699e-01      6.450125      3.552619      8.887622   \n",
       "std    14168.608618  5.705578e-07      0.000003      0.000003      0.000004   \n",
       "min        1.000000  4.658670e-01      6.450113      3.552608      8.887607   \n",
       "25%    12271.000000  4.658700e-01      6.450122      3.552617      8.887619   \n",
       "50%    24541.000000  4.658700e-01      6.450125      3.552619      8.887622   \n",
       "75%    36811.000000  4.658700e-01      6.450127      3.552621      8.887624   \n",
       "max    49081.000000  4.658730e-01      6.450140      3.552633      8.887638   \n",
       "\n",
       "          Voltage 5     Voltage 6     Voltage 7     Voltage 8     Voltage 9  \\\n",
       "count  49081.000000  49081.000000  49081.000000  49081.000000  49081.000000   \n",
       "mean       9.673771      5.541870      5.717991      7.910384      5.536982   \n",
       "std        0.000004      0.000004      0.000003      0.000004      0.000003   \n",
       "min        9.673755      5.541856      5.717977      7.910370      5.536968   \n",
       "25%        9.673768      5.541868      5.717989      7.910382      5.536980   \n",
       "50%        9.673771      5.541870      5.717991      7.910384      5.536982   \n",
       "75%        9.673774      5.541872      5.717993      7.910387      5.536985   \n",
       "max        9.673786      5.541885      5.718005      7.910399      5.536997   \n",
       "\n",
       "       ...    Voltage 11    Voltage 12    Voltage 13    Voltage 14  \\\n",
       "count  ...  49081.000000  49081.000000  49081.000000  49081.000000   \n",
       "mean   ...      5.667929      9.441776      6.702238      7.109273   \n",
       "std    ...      0.000003      0.000004      0.000003      0.000003   \n",
       "min    ...      5.667917      9.441762      6.702225      7.109261   \n",
       "25%    ...      5.667927      9.441773      6.702236      7.109271   \n",
       "50%    ...      5.667929      9.441776      6.702238      7.109273   \n",
       "75%    ...      5.667931      9.441779      6.702240      7.109276   \n",
       "max    ...      5.667943      9.441793      6.702251      7.109288   \n",
       "\n",
       "         Voltage 15    Voltage 16    Voltage 17    Voltage 18    Voltage 19  \\\n",
       "count  49081.000000  49081.000000  49081.000000  49081.000000  49081.000000   \n",
       "mean       5.569945      2.791341      5.553919      8.112444      5.187933   \n",
       "std        0.000003      0.000003      0.000003      0.000004      0.000003   \n",
       "min        5.569932      2.791332      5.553906      8.112431      5.187919   \n",
       "25%        5.569943      2.791339      5.553917      8.112441      5.187931   \n",
       "50%        5.569945      2.791341      5.553919      8.112443      5.187933   \n",
       "75%        5.569947      2.791343      5.553921      8.112446      5.187935   \n",
       "max        5.569961      2.791353      5.553932      8.112458      5.187947   \n",
       "\n",
       "         Voltage 20  \n",
       "count  49081.000000  \n",
       "mean       4.110586  \n",
       "std        0.000003  \n",
       "min        4.110573  \n",
       "25%        4.110584  \n",
       "50%        4.110586  \n",
       "75%        4.110588  \n",
       "max        4.110600  \n",
       "\n",
       "[8 rows x 21 columns]"
      ]
     },
     "execution_count": 6,
     "metadata": {},
     "output_type": "execute_result"
    }
   ],
   "source": [
    "data =  pd.read_csv('Random_Voltage_Stability_Analysis.csv', error_bad_lines=False)# add index_col='X' to index plot\n",
    "\n",
    "Array_range = [0.466, 6.449, 6.690, 3.552, 8.886, 9.672, 5.541, 5.717, 7.909, 5.536, 4.989, 5.667, 9.440, 6.701, 7.108, 5.569, 2.791, 5.553, 8.111, 5.187, 4.110]\n",
    "\n",
    "data.describe()"
   ]
  },
  {
   "cell_type": "code",
   "execution_count": 7,
   "metadata": {},
   "outputs": [
    {
     "data": {
      "text/plain": [
       "[<matplotlib.lines.Line2D at 0x1294a0f98>,\n",
       " <matplotlib.lines.Line2D at 0x1293281d0>,\n",
       " <matplotlib.lines.Line2D at 0x129328518>,\n",
       " <matplotlib.lines.Line2D at 0x129328898>,\n",
       " <matplotlib.lines.Line2D at 0x129328cc0>,\n",
       " <matplotlib.lines.Line2D at 0x1293287b8>,\n",
       " <matplotlib.lines.Line2D at 0x129328470>,\n",
       " <matplotlib.lines.Line2D at 0x129328fd0>,\n",
       " <matplotlib.lines.Line2D at 0x12909fb70>,\n",
       " <matplotlib.lines.Line2D at 0x12909f668>,\n",
       " <matplotlib.lines.Line2D at 0x129497a90>,\n",
       " <matplotlib.lines.Line2D at 0x12909fa20>,\n",
       " <matplotlib.lines.Line2D at 0x12909f518>,\n",
       " <matplotlib.lines.Line2D at 0x12909f860>,\n",
       " <matplotlib.lines.Line2D at 0x12909ff60>,\n",
       " <matplotlib.lines.Line2D at 0x129056048>,\n",
       " <matplotlib.lines.Line2D at 0x129056240>,\n",
       " <matplotlib.lines.Line2D at 0x1290562b0>,\n",
       " <matplotlib.lines.Line2D at 0x1290565f8>,\n",
       " <matplotlib.lines.Line2D at 0x1290ce320>]"
      ]
     },
     "execution_count": 7,
     "metadata": {},
     "output_type": "execute_result"
    },
    {
     "data": {
      "image/png": "[encoded data removed]",
      "text/plain": [
       "<Figure size 432x288 with 1 Axes>"
      ]
     },
     "metadata": {
      "needs_background": "light"
     },
     "output_type": "display_data"
    }
   ],
   "source": [
    "plt.plot(data.drop('key', axis=1))"
   ]
  },
  {
   "cell_type": "code",
   "execution_count": 8,
   "metadata": {},
   "outputs": [
    {
     "data": {
      "text/plain": [
       "[<matplotlib.lines.Line2D at 0x1294bf9e8>]"
      ]
     },
     "execution_count": 8,
     "metadata": {},
     "output_type": "execute_result"
    },
    {
     "data": {
      "image/png": "[encoded data removed]",
      "text/plain": [
       "<Figure size 432x288 with 1 Axes>"
      ]
     },
     "metadata": {
      "needs_background": "light"
     },
     "output_type": "display_data"
    }
   ],
   "source": [
    "X = data['key']\n",
    "Y = data['Voltage 1']\n",
    "\n",
    "plt.ylim(0.46,0.47)\n",
    "plt.plot(X,Y)"
   ]
  },
  {
   "cell_type": "code",
   "execution_count": 9,
   "metadata": {},
   "outputs": [
    {
     "data": {
      "text/plain": [
       "[<matplotlib.lines.Line2D at 0x1292ca240>]"
      ]
     },
     "execution_count": 9,
     "metadata": {},
     "output_type": "execute_result"
    },
    {
     "data": {
      "image/png": "[encoded data removed]",
      "text/plain": [
       "<Figure size 432x288 with 1 Axes>"
      ]
     },
     "metadata": {
      "needs_background": "light"
     },
     "output_type": "display_data"
    }
   ],
   "source": [
    "X = data['key']\n",
    "Y = data['Voltage 2']\n",
    "\n",
    "plt.ylim(6.448,6.452)\n",
    "plt.plot(X,Y)\n",
    "\n"
   ]
  },
  {
   "cell_type": "code",
   "execution_count": 10,
   "metadata": {},
   "outputs": [
    {
     "data": {
      "text/plain": [
       "[<matplotlib.lines.Line2D at 0x12c786208>]"
      ]
     },
     "execution_count": 10,
     "metadata": {},
     "output_type": "execute_result"
    },
    {
     "data": {
      "image/png": "[encoded data removed]",
      "text/plain": [
       "<Figure size 432x288 with 1 Axes>"
      ]
     },
     "metadata": {
      "needs_background": "light"
     },
     "output_type": "display_data"
    }
   ],
   "source": [
    "X = data['key']\n",
    "Y = data['Voltage 3']\n",
    "\n",
    "\n",
    "plt.ylim(Array_range[3]-0.001,Array_range[3]+0.001)\n",
    "plt.plot(X,Y)\n",
    "\n"
   ]
  },
  {
   "cell_type": "code",
   "execution_count": 11,
   "metadata": {},
   "outputs": [
    {
     "data": {
      "text/plain": [
       "[<matplotlib.lines.Line2D at 0x12a32f048>]"
      ]
     },
     "execution_count": 11,
     "metadata": {},
     "output_type": "execute_result"
    },
    {
     "data": {
      "image/png": "[encoded data removed]",
      "text/plain": [
       "<Figure size 432x288 with 1 Axes>"
      ]
     },
     "metadata": {
      "needs_background": "light"
     },
     "output_type": "display_data"
    }
   ],
   "source": [
    "X = data['key']\n",
    "Y = data['Voltage 4']\n",
    "\n",
    "\n",
    "plt.ylim(Array_range[4]-0.002,Array_range[4]+0.002)\n",
    "plt.plot(X,Y)\n",
    "\n"
   ]
  },
  {
   "cell_type": "code",
   "execution_count": 12,
   "metadata": {},
   "outputs": [
    {
     "data": {
      "text/plain": [
       "[<matplotlib.lines.Line2D at 0x12bd0f400>]"
      ]
     },
     "execution_count": 12,
     "metadata": {},
     "output_type": "execute_result"
    },
    {
     "data": {
      "image/png": "[encoded data removed]",
      "text/plain": [
       "<Figure size 432x288 with 1 Axes>"
      ]
     },
     "metadata": {
      "needs_background": "light"
     },
     "output_type": "display_data"
    }
   ],
   "source": [
    "X = data['key']\n",
    "Y = data['Voltage 5']\n",
    "\n",
    "\n",
    "plt.ylim(Array_range[5]-0.002,Array_range[5]+0.002)\n",
    "plt.plot(X,Y)\n",
    "\n"
   ]
  },
  {
   "cell_type": "code",
   "execution_count": 14,
   "metadata": {},
   "outputs": [
    {
     "data": {
      "text/plain": [
       "[<matplotlib.lines.Line2D at 0x12c1412e8>]"
      ]
     },
     "execution_count": 14,
     "metadata": {},
     "output_type": "execute_result"
    },
    {
     "data": {
      "image/png": "[encoded data removed]",
      "text/plain": [
       "<Figure size 432x288 with 1 Axes>"
      ]
     },
     "metadata": {
      "needs_background": "light"
     },
     "output_type": "display_data"
    }
   ],
   "source": [
    "X = data['key']\n",
    "Y = data['Voltage 6']\n",
    "\n",
    "\n",
    "plt.ylim(Array_range[6]-0.002,Array_range[6]+0.002)\n",
    "plt.plot(X,Y)\n",
    "\n"
   ]
  },
  {
   "cell_type": "code",
   "execution_count": 15,
   "metadata": {},
   "outputs": [
    {
     "data": {
      "text/plain": [
       "[<matplotlib.lines.Line2D at 0x1356254a8>]"
      ]
     },
     "execution_count": 15,
     "metadata": {},
     "output_type": "execute_result"
    },
    {
     "data": {
      "image/png": "[encoded data removed]",
      "text/plain": [
       "<Figure size 432x288 with 1 Axes>"
      ]
     },
     "metadata": {
      "needs_background": "light"
     },
     "output_type": "display_data"
    }
   ],
   "source": [
    "X = data['key']\n",
    "Y = data['Voltage 7']\n",
    "\n",
    "\n",
    "plt.ylim(Array_range[7]-0.002,Array_range[7]+0.002)\n",
    "plt.plot(X,Y)\n",
    "\n",
    "\n",
    "\n",
    "\n",
    "\n"
   ]
  },
  {
   "cell_type": "code",
   "execution_count": 16,
   "metadata": {},
   "outputs": [
    {
     "data": {
      "text/plain": [
       "[<matplotlib.lines.Line2D at 0x1355e4390>]"
      ]
     },
     "execution_count": 16,
     "metadata": {},
     "output_type": "execute_result"
    },
    {
     "data": {
      "image/png": "[encoded data removed]",
      "text/plain": [
       "<Figure size 432x288 with 1 Axes>"
      ]
     },
     "metadata": {
      "needs_background": "light"
     },
     "output_type": "display_data"
    }
   ],
   "source": [
    "X = data['key']\n",
    "Y = data['Voltage 8']\n",
    "\n",
    "\n",
    "plt.ylim(Array_range[8]-0.002,Array_range[8]+0.002)\n",
    "plt.plot(X,Y)\n",
    "\n"
   ]
  },
  {
   "cell_type": "code",
   "execution_count": 17,
   "metadata": {},
   "outputs": [
    {
     "data": {
      "text/plain": [
       "[<matplotlib.lines.Line2D at 0x135db8d30>]"
      ]
     },
     "execution_count": 17,
     "metadata": {},
     "output_type": "execute_result"
    },
    {
     "data": {
      "image/png": "[encoded data removed]",
      "text/plain": [
       "<Figure size 432x288 with 1 Axes>"
      ]
     },
     "metadata": {
      "needs_background": "light"
     },
     "output_type": "display_data"
    }
   ],
   "source": [
    "\n",
    "X = data['key']\n",
    "Y = data['Voltage 9']\n",
    "\n",
    "\n",
    "plt.ylim(Array_range[9]-0.002,Array_range[9]+0.002)\n",
    "plt.plot(X,Y)\n",
    "\n"
   ]
  },
  {
   "cell_type": "code",
   "execution_count": 18,
   "metadata": {},
   "outputs": [
    {
     "data": {
      "text/plain": [
       "[<matplotlib.lines.Line2D at 0x135ecfd68>]"
      ]
     },
     "execution_count": 18,
     "metadata": {},
     "output_type": "execute_result"
    },
    {
     "data": {
      "image/png": "[encoded data removed]",
      "text/plain": [
       "<Figure size 432x288 with 1 Axes>"
      ]
     },
     "metadata": {
      "needs_background": "light"
     },
     "output_type": "display_data"
    }
   ],
   "source": [
    "\n",
    "X = data['key']\n",
    "Y = data['Voltage 10']\n",
    "\n",
    "\n",
    "plt.ylim(Array_range[10]-0.002,Array_range[10]+0.002)\n",
    "plt.plot(X,Y)"
   ]
  },
  {
   "cell_type": "code",
   "execution_count": 19,
   "metadata": {},
   "outputs": [
    {
     "data": {
      "text/plain": [
       "[<matplotlib.lines.Line2D at 0x13666f048>]"
      ]
     },
     "execution_count": 19,
     "metadata": {},
     "output_type": "execute_result"
    },
    {
     "data": {
      "image/png": "[encoded data removed]",
      "text/plain": [
       "<Figure size 432x288 with 1 Axes>"
      ]
     },
     "metadata": {
      "needs_background": "light"
     },
     "output_type": "display_data"
    }
   ],
   "source": [
    "\n",
    "X = data['key']\n",
    "Y = data['Voltage 11']\n",
    "\n",
    "\n",
    "plt.ylim(Array_range[11]-0.002,Array_range[11]+0.002)\n",
    "plt.plot(X,Y)"
   ]
  },
  {
   "cell_type": "code",
   "execution_count": 20,
   "metadata": {},
   "outputs": [
    {
     "data": {
      "text/plain": [
       "[<matplotlib.lines.Line2D at 0x13678c978>]"
      ]
     },
     "execution_count": 20,
     "metadata": {},
     "output_type": "execute_result"
    },
    {
     "data": {
      "image/png": "[encoded data removed]",
      "text/plain": [
       "<Figure size 432x288 with 1 Axes>"
      ]
     },
     "metadata": {
      "needs_background": "light"
     },
     "output_type": "display_data"
    }
   ],
   "source": [
    "\n",
    "X = data['key']\n",
    "Y = data['Voltage 12']\n",
    "\n",
    "\n",
    "plt.ylim(Array_range[12]-0.002,Array_range[12]+0.002)\n",
    "plt.plot(X,Y)"
   ]
  },
  {
   "cell_type": "code",
   "execution_count": 21,
   "metadata": {},
   "outputs": [
    {
     "data": {
      "text/plain": [
       "[<matplotlib.lines.Line2D at 0x136ef9198>]"
      ]
     },
     "execution_count": 21,
     "metadata": {},
     "output_type": "execute_result"
    },
    {
     "data": {
      "image/png": "[encoded data removed]",
      "text/plain": [
       "<Figure size 432x288 with 1 Axes>"
      ]
     },
     "metadata": {
      "needs_background": "light"
     },
     "output_type": "display_data"
    }
   ],
   "source": [
    "\n",
    "X = data['key']\n",
    "Y = data['Voltage 13']\n",
    "\n",
    "\n",
    "plt.ylim(Array_range[13]-0.002,Array_range[13]+0.002)\n",
    "plt.plot(X,Y)"
   ]
  },
  {
   "cell_type": "code",
   "execution_count": 22,
   "metadata": {},
   "outputs": [
    {
     "data": {
      "text/plain": [
       "[<matplotlib.lines.Line2D at 0x137017dd8>]"
      ]
     },
     "execution_count": 22,
     "metadata": {},
     "output_type": "execute_result"
    },
    {
     "data": {
      "image/png": "[encoded data removed]",
      "text/plain": [
       "<Figure size 432x288 with 1 Axes>"
      ]
     },
     "metadata": {
      "needs_background": "light"
     },
     "output_type": "display_data"
    }
   ],
   "source": [
    "\n",
    "X = data['key']\n",
    "Y = data['Voltage 14']\n",
    "\n",
    "\n",
    "plt.ylim(Array_range[14]-0.002,Array_range[14]+0.002)\n",
    "plt.plot(X,Y)"
   ]
  },
  {
   "cell_type": "code",
   "execution_count": 23,
   "metadata": {},
   "outputs": [
    {
     "data": {
      "text/plain": [
       "[<matplotlib.lines.Line2D at 0x13759c7b8>]"
      ]
     },
     "execution_count": 23,
     "metadata": {},
     "output_type": "execute_result"
    },
    {
     "data": {
      "image/png": "[encoded data removed]",
      "text/plain": [
       "<Figure size 432x288 with 1 Axes>"
      ]
     },
     "metadata": {
      "needs_background": "light"
     },
     "output_type": "display_data"
    }
   ],
   "source": [
    "\n",
    "X = data['key']\n",
    "Y = data['Voltage 15']\n",
    "\n",
    "\n",
    "plt.ylim(Array_range[15]-0.002,Array_range[15]+0.002)\n",
    "plt.plot(X,Y)"
   ]
  },
  {
   "cell_type": "code",
   "execution_count": 24,
   "metadata": {},
   "outputs": [
    {
     "data": {
      "text/plain": [
       "[<matplotlib.lines.Line2D at 0x13759ceb8>]"
      ]
     },
     "execution_count": 24,
     "metadata": {},
     "output_type": "execute_result"
    },
    {
     "data": {
      "image/png": "[encoded data removed]",
      "text/plain": [
       "<Figure size 432x288 with 1 Axes>"
      ]
     },
     "metadata": {
      "needs_background": "light"
     },
     "output_type": "display_data"
    }
   ],
   "source": [
    "\n",
    "X = data['key']\n",
    "Y = data['Voltage 16']\n",
    "\n",
    "\n",
    "plt.ylim(Array_range[16]-0.002,Array_range[17]+0.002)\n",
    "plt.plot(X,Y)"
   ]
  },
  {
   "cell_type": "code",
   "execution_count": 25,
   "metadata": {},
   "outputs": [
    {
     "data": {
      "text/plain": [
       "[<matplotlib.lines.Line2D at 0x137c483c8>]"
      ]
     },
     "execution_count": 25,
     "metadata": {},
     "output_type": "execute_result"
    },
    {
     "data": {
      "image/png": "[encoded data removed]",
      "text/plain": [
       "<Figure size 432x288 with 1 Axes>"
      ]
     },
     "metadata": {
      "needs_background": "light"
     },
     "output_type": "display_data"
    }
   ],
   "source": [
    "\n",
    "X = data['key']\n",
    "Y = data['Voltage 18']\n",
    "\n",
    "\n",
    "plt.ylim(Array_range[18]-0.002,Array_range[18]+0.002)\n",
    "plt.plot(X,Y)"
   ]
  },
  {
   "cell_type": "code",
   "execution_count": 26,
   "metadata": {},
   "outputs": [
    {
     "data": {
      "text/plain": [
       "[<matplotlib.lines.Line2D at 0x137c432b0>]"
      ]
     },
     "execution_count": 26,
     "metadata": {},
     "output_type": "execute_result"
    },
    {
     "data": {
      "image/png": "[encoded data removed]",
      "text/plain": [
       "<Figure size 432x288 with 1 Axes>"
      ]
     },
     "metadata": {
      "needs_background": "light"
     },
     "output_type": "display_data"
    }
   ],
   "source": [
    "\n",
    "X = data['key']\n",
    "Y = data['Voltage 19']\n",
    "\n",
    "\n",
    "plt.ylim(Array_range[19]-0.002,Array_range[19]+0.002)\n",
    "plt.plot(X,Y)"
   ]
  },
  {
   "cell_type": "code",
   "execution_count": 27,
   "metadata": {},
   "outputs": [
    {
     "data": {
      "text/plain": [
       "[<matplotlib.lines.Line2D at 0x1381cab70>]"
      ]
     },
     "execution_count": 27,
     "metadata": {},
     "output_type": "execute_result"
    },
    {
     "data": {
      "image/png": "[encoded data removed]",
      "text/plain": [
       "<Figure size 432x288 with 1 Axes>"
      ]
     },
     "metadata": {
      "needs_background": "light"
     },
     "output_type": "display_data"
    }
   ],
   "source": [
    "\n",
    "X = data['key']\n",
    "Y = data['Voltage 20']\n",
    "\n",
    "\n",
    "plt.ylim(Array_range[20]-0.002,Array_range[20]+0.002)\n",
    "plt.plot(X,Y)"
   ]
  },
  {
   "cell_type": "code",
   "execution_count": null,
   "metadata": {},
   "outputs": [],
   "source": []
  }
 ],
 "metadata": {
  "kernelspec": {
   "display_name": "Python 3",
   "language": "python",
   "name": "python3"
  },
  "language_info": {
   "codemirror_mode": {
    "name": "ipython",
    "version": 3
   },
   "file_extension": ".py",
   "mimetype": "text/x-python",
   "name": "python",
   "nbconvert_exporter": "python",
   "pygments_lexer": "ipython3",
   "version": "3.7.3"
  }
 },
 "nbformat": 4,
 "nbformat_minor": 2
}
